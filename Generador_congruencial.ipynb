{
  "nbformat": 4,
  "nbformat_minor": 0,
  "metadata": {
    "colab": {
      "provenance": [],
      "toc_visible": true,
      "authorship_tag": "ABX9TyNOtRikCh61fa//0zBJnz7t",
      "include_colab_link": true
    },
    "kernelspec": {
      "name": "python3",
      "display_name": "Python 3"
    },
    "language_info": {
      "name": "python"
    }
  },
  "cells": [
    {
      "cell_type": "markdown",
      "metadata": {
        "id": "view-in-github",
        "colab_type": "text"
      },
      "source": [
        "<a href=\"https://colab.research.google.com/github/CesarAF10/CesarAF10/blob/main/Generador_congruencial.ipynb\" target=\"_parent\"><img src=\"https://colab.research.google.com/assets/colab-badge.svg\" alt=\"Open In Colab\"/></a>"
      ]
    },
    {
      "cell_type": "code",
      "execution_count": null,
      "metadata": {
        "id": "u8XKj739WqiO"
      },
      "outputs": [],
      "source": []
    },
    {
      "cell_type": "markdown",
      "source": [
        "# Numeros aleatorios"
      ],
      "metadata": {
        "id": "CF4R_bIsWs-z"
      }
    },
    {
      "cell_type": "markdown",
      "source": [
        "Generador Congruencial"
      ],
      "metadata": {
        "id": "SjG1agPbZb3a"
      }
    },
    {
      "cell_type": "code",
      "source": [
        "from tabulate import tabulate\n",
        "a=4\n",
        "c=7\n",
        "m=22\n",
        "x0=3\n",
        "def generador(a, c, m, x0):\n",
        "    x=(a*x0+c)%m\n",
        "    return x\n",
        "muestra=[]\n",
        "for i in range(10):\n",
        "  nuevo=generador(a, c, m, x0)\n",
        "  muestra.append([i, x0, nuevo/m])\n",
        "  x0=nuevo\n",
        "encabezador=[\"i\",\"x_i\", \"x_{i+1}\"]\n",
        "print(tabulate(muestra, headers=encabezador))"
      ],
      "metadata": {
        "colab": {
          "base_uri": "https://localhost:8080/"
        },
        "id": "Gw1dhF5mhbnl",
        "outputId": "14678ede-5ea4-4f6a-9b38-ec01ab1e708a"
      },
      "execution_count": 83,
      "outputs": [
        {
          "output_type": "stream",
          "name": "stdout",
          "text": [
            "  i    x_i    x_{i+1}\n",
            "---  -----  ---------\n",
            "  0      3   0.863636\n",
            "  1     19   0.772727\n",
            "  2     17   0.409091\n",
            "  3      9   0.954545\n",
            "  4     21   0.136364\n",
            "  5      3   0.863636\n",
            "  6     19   0.772727\n",
            "  7     17   0.409091\n",
            "  8      9   0.954545\n",
            "  9     21   0.136364\n"
          ]
        }
      ]
    }
  ]
}