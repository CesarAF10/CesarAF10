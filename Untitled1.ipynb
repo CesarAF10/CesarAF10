{
  "nbformat": 4,
  "nbformat_minor": 0,
  "metadata": {
    "colab": {
      "provenance": [],
      "authorship_tag": "ABX9TyPlILRany9MnhytI4kZ41/g",
      "include_colab_link": true
    },
    "kernelspec": {
      "name": "python3",
      "display_name": "Python 3"
    },
    "language_info": {
      "name": "python"
    }
  },
  "cells": [
    {
      "cell_type": "markdown",
      "metadata": {
        "id": "view-in-github",
        "colab_type": "text"
      },
      "source": [
        "<a href=\"https://colab.research.google.com/github/CesarAF10/CesarAF10/blob/main/Untitled1.ipynb\" target=\"_parent\"><img src=\"https://colab.research.google.com/assets/colab-badge.svg\" alt=\"Open In Colab\"/></a>"
      ]
    },
    {
      "cell_type": "code",
      "execution_count": null,
      "metadata": {
        "id": "u8XKj739WqiO"
      },
      "outputs": [],
      "source": []
    },
    {
      "cell_type": "markdown",
      "source": [
        "# Numeros aleatorios"
      ],
      "metadata": {
        "id": "CF4R_bIsWs-z"
      }
    },
    {
      "cell_type": "markdown",
      "source": [
        "Generador Congruencial"
      ],
      "metadata": {
        "id": "SjG1agPbZb3a"
      }
    },
    {
      "cell_type": "code",
      "source": [
        "def generador_congruencial(x0,a, c, m, n):\n",
        "  \"x0 = semilla\"\n",
        "  \"a = multiplicador\"\n",
        "  \"c = incremento\"\n",
        "  \"m = modulo\"\n",
        "  \"n = # de iteraciones\"\n",
        "  x=x0\n",
        "  numeros =[]\n",
        "  for _ in range(n):\n",
        "    x=(a*x+c)%m\n",
        "    numeros.append(x/m)\n",
        "  return numeros\n",
        "  x0=3\n",
        "  a=4\n",
        "  c=7\n",
        "  m=22\n",
        "  n=50\n",
        "  numeros_aleatorios=generador_congruencial(x0,a, c, m, n)\n",
        "  print(numeros_aleatorios)\n"
      ],
      "metadata": {
        "id": "PN-XsElecamN"
      },
      "execution_count": 6,
      "outputs": []
    }
  ]
}